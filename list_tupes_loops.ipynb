{
 "cells": [
  {
   "cell_type": "markdown",
   "metadata": {
    "slideshow": {
     "slide_type": "slide"
    }
   },
   "source": [
    "# LISTS, TUPLES, LOOPS\n",
    "\n",
    "## LISTS:\n",
    " ### A collection of items/ names grouped together to form a sequence\n",
    "\n",
    "\n",
    "\n"
   ]
  },
  {
   "cell_type": "code",
   "execution_count": 1,
   "metadata": {
    "slideshow": {
     "slide_type": "slide"
    }
   },
   "outputs": [
    {
     "name": "stdout",
     "output_type": "stream",
     "text": [
      "[1, 2, 3, 4]\n"
     ]
    }
   ],
   "source": [
    "myList = [ 1,2,3,4 ] #list of integers\n",
    "\n",
    "print(myList)"
   ]
  },
  {
   "cell_type": "code",
   "execution_count": 2,
   "metadata": {
    "slideshow": {
     "slide_type": "slide"
    }
   },
   "outputs": [
    {
     "name": "stdout",
     "output_type": "stream",
     "text": [
      "['Ali', 'Sara', 'Saad', 'Nadeem', 'Bilal']\n"
     ]
    }
   ],
   "source": [
    "contacts = [ \"Ali\" , \"Sara\" , \"Saad\" , \"Nadeem\" , \"Bilal\" ]\n",
    "\n",
    "print(contacts)"
   ]
  },
  {
   "cell_type": "code",
   "execution_count": 3,
   "metadata": {
    "slideshow": {
     "slide_type": "slide"
    }
   },
   "outputs": [
    {
     "name": "stdout",
     "output_type": "stream",
     "text": [
      "[1, 2, 'Sara', 3, 4, 'Ali']\n"
     ]
    }
   ],
   "source": [
    "mixList = [ 1, 2, \"Sara\", 3, 4, \"Ali\"]\n",
    "\n",
    "print(mixList)"
   ]
  },
  {
   "cell_type": "code",
   "execution_count": 4,
   "metadata": {
    "slideshow": {
     "slide_type": "slide"
    }
   },
   "outputs": [
    {
     "name": "stdout",
     "output_type": "stream",
     "text": [
      "['Ali', 'Sara', 'Saad', 'Nadeem', 'Bilal']\n"
     ]
    },
    {
     "data": {
      "text/plain": [
       "5"
      ]
     },
     "execution_count": 4,
     "metadata": {},
     "output_type": "execute_result"
    }
   ],
   "source": [
    "print(contacts)\n",
    "\n",
    "len(contacts)"
   ]
  },
  {
   "cell_type": "code",
   "execution_count": 5,
   "metadata": {
    "slideshow": {
     "slide_type": "slide"
    }
   },
   "outputs": [
    {
     "data": {
      "text/plain": [
       "'Ali'"
      ]
     },
     "execution_count": 5,
     "metadata": {},
     "output_type": "execute_result"
    }
   ],
   "source": [
    "contacts[0]"
   ]
  },
  {
   "cell_type": "code",
   "execution_count": 6,
   "metadata": {
    "slideshow": {
     "slide_type": "slide"
    }
   },
   "outputs": [
    {
     "name": "stdout",
     "output_type": "stream",
     "text": [
      "['Ali', 'Sara', 'Saad', 'Nadeem', 'Bilal']\n",
      "['Ali', 'Sara', 'Maryam', 'Nadeem', 'Bilal']\n"
     ]
    }
   ],
   "source": [
    "print(contacts)\n",
    "\n",
    "contacts[2] = \"Maryam\" \n",
    "\n",
    "print(contacts)"
   ]
  },
  {
   "cell_type": "code",
   "execution_count": 7,
   "metadata": {
    "slideshow": {
     "slide_type": "slide"
    }
   },
   "outputs": [
    {
     "name": "stdout",
     "output_type": "stream",
     "text": [
      "['Ali', 'Sara', 'Ahmed', 'Nadeem', 'Bilal']\n",
      "['Ali', 'Sara', 'new name', 'Ahmed', 'Nadeem', 'Bilal']\n"
     ]
    }
   ],
   "source": [
    "contacts = [ \"Ali\" , \"Sara\" , \"Ahmed\" , \"Nadeem\" , \"Bilal\" ]\n",
    "\n",
    "print (contacts)\n",
    "\n",
    "contacts.insert(2, \"new name\")\n",
    "\n",
    "print (contacts)"
   ]
  },
  {
   "cell_type": "code",
   "execution_count": 8,
   "metadata": {
    "slideshow": {
     "slide_type": "slide"
    }
   },
   "outputs": [
    {
     "name": "stdout",
     "output_type": "stream",
     "text": [
      "['Ali', 'Sara', 'new name', 'Ahmed', 'Nadeem', 'Bilal']\n",
      "['Ali', 'Sara', 'new name', 'Ahmed', 'Nadeem', 'Bilal', 'final name']\n"
     ]
    }
   ],
   "source": [
    "print (contacts)\n",
    "\n",
    "contacts.append(\"final name\")\n",
    "\n",
    "print(contacts)"
   ]
  },
  {
   "cell_type": "code",
   "execution_count": 9,
   "metadata": {
    "slideshow": {
     "slide_type": "slide"
    }
   },
   "outputs": [
    {
     "name": "stdout",
     "output_type": "stream",
     "text": [
      "['Ali', 'Sara', 'new name', 'Ahmed', 'Nadeem', 'Bilal', 'final name']\n",
      "['Ali', 'new name', 'Ahmed', 'Nadeem', 'Bilal', 'final name']\n"
     ]
    }
   ],
   "source": [
    "print(contacts)\n",
    "\n",
    "contacts.remove(\"Sara\")\n",
    "\n",
    "print(contacts)"
   ]
  },
  {
   "cell_type": "code",
   "execution_count": 10,
   "metadata": {
    "slideshow": {
     "slide_type": "slide"
    }
   },
   "outputs": [
    {
     "name": "stdout",
     "output_type": "stream",
     "text": [
      "[1, 3, 5, 7, 20]\n"
     ]
    }
   ],
   "source": [
    "numbers = [ 1,7,3,5,20 ]\n",
    "\n",
    "numbers.sort()\n",
    "\n",
    "print(numbers)"
   ]
  },
  {
   "cell_type": "code",
   "execution_count": 11,
   "metadata": {
    "slideshow": {
     "slide_type": "slide"
    }
   },
   "outputs": [
    {
     "name": "stdout",
     "output_type": "stream",
     "text": [
      "[1, 3, 5, 7, 20]\n",
      "[20, 7, 5, 3, 1]\n"
     ]
    }
   ],
   "source": [
    "print(numbers)\n",
    "\n",
    "numbers.reverse()\n",
    "\n",
    "print(numbers)"
   ]
  },
  {
   "cell_type": "code",
   "execution_count": 12,
   "metadata": {
    "slideshow": {
     "slide_type": "slide"
    }
   },
   "outputs": [],
   "source": [
    "numbers = [20, 7, 5, 3, 1]\n",
    "\n",
    "myTuple = (20, 7, 5, 3, 1)\n"
   ]
  },
  {
   "cell_type": "markdown",
   "metadata": {
    "slideshow": {
     "slide_type": "slide"
    }
   },
   "source": [
    "# Tuples Are Immutable"
   ]
  },
  {
   "cell_type": "code",
   "execution_count": 13,
   "metadata": {
    "slideshow": {
     "slide_type": "slide"
    }
   },
   "outputs": [
    {
     "name": "stdout",
     "output_type": "stream",
     "text": [
      "[20, 7, 5, 3, 1]\n",
      "[20, 1, 5, 3, 1]\n"
     ]
    }
   ],
   "source": [
    "print (numbers)\n",
    "numbers[1]= 1\n",
    "print (numbers)\n",
    "\n",
    "#myTuple[1] = 2"
   ]
  },
  {
   "cell_type": "code",
   "execution_count": 14,
   "metadata": {
    "slideshow": {
     "slide_type": "slide"
    }
   },
   "outputs": [
    {
     "name": "stdout",
     "output_type": "stream",
     "text": [
      "40\n"
     ]
    }
   ],
   "source": [
    "numbers = [ 20, 1, 3, 15, 1 ]\n",
    "sum = 0\n",
    "sum = numbers[0] + numbers[1] + numbers[2] + numbers[3] + numbers[4] \n",
    "print (sum)"
   ]
  },
  {
   "cell_type": "markdown",
   "metadata": {
    "slideshow": {
     "slide_type": "slide"
    }
   },
   "source": [
    "#  REPITETION, ITERATION, LOOPS"
   ]
  },
  {
   "cell_type": "code",
   "execution_count": 15,
   "metadata": {
    "slideshow": {
     "slide_type": "slide"
    }
   },
   "outputs": [
    {
     "name": "stdout",
     "output_type": "stream",
     "text": [
      "40\n"
     ]
    }
   ],
   "source": [
    "numbers = [ 20, 1, 3, 15, 1 ]\n",
    "sum = 0\n",
    "\n",
    "for i in numbers:\n",
    "    sum= sum + i\n",
    "\n",
    "print(sum)"
   ]
  },
  {
   "cell_type": "code",
   "execution_count": 16,
   "metadata": {
    "slideshow": {
     "slide_type": "slide"
    }
   },
   "outputs": [
    {
     "name": "stdout",
     "output_type": "stream",
     "text": [
      "Ali\n",
      "Sara\n",
      "Ahmed\n",
      "Nadeem\n",
      "Bilal\n",
      "End of For Loop\n"
     ]
    }
   ],
   "source": [
    "contacts = [ \"Ali\" , \"Sara\" , \"Ahmed\" , \"Nadeem\" , \"Bilal\" ]\n",
    "\n",
    "for i in contacts:\n",
    "    print(i)\n",
    "\n",
    "print(\"End of For Loop\")"
   ]
  },
  {
   "cell_type": "code",
   "execution_count": 17,
   "metadata": {
    "slideshow": {
     "slide_type": "slide"
    }
   },
   "outputs": [
    {
     "name": "stdout",
     "output_type": "stream",
     "text": [
      "1\n",
      "2\n",
      "3\n",
      "4\n",
      "5\n",
      "6\n",
      "7\n",
      "8\n",
      "9\n",
      "End Of While Loop\n"
     ]
    }
   ],
   "source": [
    "n = 1\n",
    "while n<10:\n",
    "    print(n)\n",
    "    n = n+1\n",
    "\n",
    "print(\"End Of While Loop\")"
   ]
  },
  {
   "cell_type": "code",
   "execution_count": 18,
   "metadata": {
    "slideshow": {
     "slide_type": "slide"
    }
   },
   "outputs": [
    {
     "name": "stdout",
     "output_type": "stream",
     "text": [
      "1\n",
      "2\n",
      "3\n",
      "4\n",
      "5\n",
      "6\n",
      "7\n",
      "8\n",
      "9\n",
      "10\n"
     ]
    }
   ],
   "source": [
    "for i in range(1,11):\n",
    "    \n",
    "     print(i)"
   ]
  },
  {
   "cell_type": "code",
   "execution_count": null,
   "metadata": {},
   "outputs": [],
   "source": []
  }
 ],
 "metadata": {
  "celltoolbar": "Slideshow",
  "kernelspec": {
   "display_name": "Python 3",
   "language": "python",
   "name": "python3"
  },
  "language_info": {
   "codemirror_mode": {
    "name": "ipython",
    "version": 3
   },
   "file_extension": ".py",
   "mimetype": "text/x-python",
   "name": "python",
   "nbconvert_exporter": "python",
   "pygments_lexer": "ipython3",
   "version": "3.8.8"
  }
 },
 "nbformat": 4,
 "nbformat_minor": 4
}
