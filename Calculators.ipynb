{
 "cells": [
  {
   "cell_type": "code",
   "execution_count": 1,
   "metadata": {},
   "outputs": [
    {
     "name": "stdout",
     "output_type": "stream",
     "text": [
      "Enter the Length555\n",
      "Enter the Width555\n",
      "The area of the Rectangle is 308025\n"
     ]
    }
   ],
   "source": [
    "#Calculating the area of the rectangle.\n",
    "\n",
    "def area(length,width):\n",
    "    \n",
    "    area_of_rectangle=length*width # Taking inputs\n",
    "    \n",
    "    return area_of_rectangle # Returning the area from where it is called\n",
    "x=int(input(\"Enter the Length\"))\n",
    "y=int(input(\"Enter the Width\"))\n",
    "z=area(x,y)\n",
    "print(\"The area of the Rectangle is\",z)"
   ]
  },
  {
   "cell_type": "code",
   "execution_count": null,
   "metadata": {},
   "outputs": [],
   "source": [
    "# Calculating the area of the circle\n",
    "\n",
    "from math import pi #Calling a function from math library\n",
    "\n",
    "def circle(r):\n",
    "    \n",
    "    d=2*r # Calcutating diameter of the circle\n",
    "    print(\"The dimeter of the circle is\",d)\n",
    "    \n",
    "    c=2*pi*r # Calcutating circumference of the circle\n",
    "    print(\"The circumference of the circle is\",c)\n",
    "    \n",
    "    a=pi*pow(r,2) # Calcutating area of the circle \n",
    "    print(\"The area of the circle is\",a)\n",
    "\n",
    "x=int(input(\"Enter the radius of the circle\"))    \n",
    "circle(x)"
   ]
  },
  {
   "cell_type": "code",
   "execution_count": null,
   "metadata": {},
   "outputs": [],
   "source": [
    "# Performing arithmetic operations.\n",
    "def arithmetic_operators(x=1,y=1):\n",
    "    add=x+y\n",
    "    print(\"The addintion of x and y is\",add) #Adding the two values\n",
    "    \n",
    "    sub=x-y\n",
    "    print(\"The subtracton of x and y is\",sub) #Subtracting two values\n",
    "    \n",
    "    divi=x/y\n",
    "    print(\"The division of x and y is\",divi) #Dividing two vaues\n",
    "    \n",
    "    multi=x*y\n",
    "    print(\"The multipication of x and y is\",multi) #Multipying two values\n",
    "    \n",
    "a=int(input(\"Enter the first number\"))\n",
    "b=int(input(\"Enter the second number\"))\n",
    "\n",
    "arithmetic_operators(a,b)\n"
   ]
  },
  {
   "cell_type": "code",
   "execution_count": null,
   "metadata": {},
   "outputs": [],
   "source": []
  }
 ],
 "metadata": {
  "kernelspec": {
   "display_name": "Python 3",
   "language": "python",
   "name": "python3"
  },
  "language_info": {
   "codemirror_mode": {
    "name": "ipython",
    "version": 3
   },
   "file_extension": ".py",
   "mimetype": "text/x-python",
   "name": "python",
   "nbconvert_exporter": "python",
   "pygments_lexer": "ipython3",
   "version": "3.8.8"
  }
 },
 "nbformat": 4,
 "nbformat_minor": 4
}
