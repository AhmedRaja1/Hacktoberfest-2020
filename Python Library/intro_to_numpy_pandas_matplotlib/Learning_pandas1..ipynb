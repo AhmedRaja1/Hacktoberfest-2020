{
 "cells": [
  {
   "cell_type": "code",
   "execution_count": 1,
   "metadata": {},
   "outputs": [],
   "source": [
    "import pandas as pd"
   ]
  },
  {
   "cell_type": "code",
   "execution_count": 2,
   "metadata": {},
   "outputs": [],
   "source": [
    "df = pd.read_csv('survey_results_public.csv', index_col = 'Respondent')\n",
    "# loading the other csv file, schema tells us what questions were asked during the survey  \n",
    "schema_df = pd.read_csv('survey_results_schema.csv', index_col = 'Column')"
   ]
  },
  {
   "cell_type": "code",
   "execution_count": null,
   "metadata": {
    "scrolled": true
   },
   "outputs": [],
   "source": [
    "# to know about your data frame, u can print .shape attribute to know how much rows and columns are in \n",
    "df.shape"
   ]
  },
  {
   "cell_type": "code",
   "execution_count": null,
   "metadata": {},
   "outputs": [],
   "source": [
    "# or we can use .info() method in order to know more about our data frame\n",
    "# prints out name of each column as well as data types as well as the number of entries etc\n",
    "df.info()"
   ]
  },
  {
   "cell_type": "code",
   "execution_count": null,
   "metadata": {},
   "outputs": [],
   "source": [
    "# we can set option if we want to see the desirable number of rows or columsn like this\n",
    "# after printing out the number of columns we can see that it prints out all the numbers of columns \n",
    "pd.set_option('display.max_columns',61)"
   ]
  },
  {
   "cell_type": "code",
   "execution_count": null,
   "metadata": {},
   "outputs": [],
   "source": [
    "# in order to view some specific rows from start or the end we use the .head() and .tail() methods from df e.g\n",
    "# we can specify the no of rows we want to see, inside the method \n",
    "df.head(15)"
   ]
  },
  {
   "cell_type": "code",
   "execution_count": null,
   "metadata": {},
   "outputs": [],
   "source": [
    "# if we want to access multiple columns of the df, we can pass a list of the \n",
    "df[['Country','Gender']]"
   ]
  },
  {
   "cell_type": "code",
   "execution_count": null,
   "metadata": {
    "scrolled": false
   },
   "outputs": [],
   "source": [
    "# we can acess the row we want to access via loc and iloc (with loc u can use labels, the columns names)\n",
    "df.iloc[1]\n",
    "# we can pass a list of rows we want df.iloc[[1,2,3]]\n",
    "# similarly we can view the columns too by i.loc[1, 2] # the  mean the first row and 2nd column "
   ]
  },
  {
   "cell_type": "code",
   "execution_count": null,
   "metadata": {},
   "outputs": [],
   "source": [
    "# if we want to get the count of unique values, number of \"yes\" or \"no\" are counted as responses\n",
    "df['Hobbyist'].value_counts() "
   ]
  },
  {
   "cell_type": "code",
   "execution_count": null,
   "metadata": {},
   "outputs": [],
   "source": [
    "# u can also pass indexes as the labels like, rows 0:2 and columns from hobb to empl\n",
    "df.loc[1:2, 'Hobbyist':'Employment']"
   ]
  },
  {
   "cell_type": "markdown",
   "metadata": {},
   "source": [
    "<font size=\"5\">INDEXING</font>"
   ]
  },
  {
   "cell_type": "code",
   "execution_count": null,
   "metadata": {
    "scrolled": true
   },
   "outputs": [],
   "source": [
    "# if we want a specific column to be set as an index we can do so by by \n",
    "df.set_index('Respondent')\n",
    "# we can make a column our index column by set index method as well as by specifying is the read_csv method by index_col\n",
    "# after running this we will have the index as the above mentioned but pandas don't explicitly change the dataFrame\n",
    "# until we mention inplace=True inside the set_index function, WOhoooo"
   ]
  },
  {
   "cell_type": "code",
   "execution_count": null,
   "metadata": {},
   "outputs": [],
   "source": [
    "# after setting up the index col arg in read_csv of schema we can search for a specific row e.g Respondant  \n",
    "# specific column in that row e.g questiontext col in Respondant\n",
    "schema_df.loc['Respondent','QuestionText']"
   ]
  },
  {
   "cell_type": "code",
   "execution_count": null,
   "metadata": {},
   "outputs": [],
   "source": [
    "# we can also sort the indexes by ascending as well as descending\n",
    "schema_df.sort_index()"
   ]
  },
  {
   "cell_type": "markdown",
   "metadata": {},
   "source": [
    "<font size=\"5\"> Filtering </font>"
   ]
  },
  {
   "cell_type": "code",
   "execution_count": null,
   "metadata": {},
   "outputs": [],
   "source": [
    "# if one wants to see whether a specific column has the Value equal to ..\n",
    "# this return a kind of filter that has true and false values, whether our querry matched or not\n",
    "# we can use this filter and apply it to the data Frame\n",
    "filt = (df['Country']=='Pakistan')\n",
    "df[filt]"
   ]
  },
  {
   "cell_type": "code",
   "execution_count": null,
   "metadata": {},
   "outputs": [],
   "source": [
    "# we can filter our dataFrame through a .loc method like this (this method is preferrable)\n",
    "df.loc[filt] # the 2nd arg pass the column you want from that specific row"
   ]
  },
  {
   "cell_type": "code",
   "execution_count": null,
   "metadata": {},
   "outputs": [],
   "source": [
    "# using operators for filtering &, | etc\n",
    "# using & to narrow down the search\n",
    "# filt2 = (df['Country']=='Brazil') & (df['Age']>30)\n",
    "filt2 = (df['Country']=='Pakistan') | (df['Country']=='Brazil')\n",
    "df.loc[filt2]\n",
    "# the ~ operator filter the opposite to the filter like ~filt2 will query all the values other than pak and brazil\n",
    "# df.loc[~filt2]"
   ]
  },
  {
   "cell_type": "code",
   "execution_count": null,
   "metadata": {},
   "outputs": [],
   "source": [
    "# the specific columns you want from the df after applying the filter \n",
    "df.loc[filt2, ['Age','Country']]"
   ]
  },
  {
   "cell_type": "code",
   "execution_count": null,
   "metadata": {},
   "outputs": [],
   "source": [
    "# filter can be applied this way too\n",
    "countries = ['United States', 'United Kingdom', 'India', 'Canada']\n",
    "filt3 = df['Country'].isin(countries)\n",
    "df.loc[filt3, 'Country']"
   ]
  },
  {
   "cell_type": "code",
   "execution_count": null,
   "metadata": {
    "scrolled": true
   },
   "outputs": [],
   "source": [
    "# if we want to grab some specific string values in rows of a column we can use the string methods as follows \n",
    "filt4 = df['LanguageWorkedWith'].str.contains('Python', na=False)\n",
    "df.loc[filt4, 'LanguageWorkedWith']"
   ]
  },
  {
   "cell_type": "markdown",
   "metadata": {},
   "source": [
    "<font size=\"5\"> Altering the data </font>"
   ]
  },
  {
   "cell_type": "code",
   "execution_count": null,
   "metadata": {},
   "outputs": [],
   "source": [
    "# we can rename the columns we want to like, we can pass the dictionary to the \n",
    "df.rename(columns={'Country':'country', 'Age':'age'}) \n",
    "#if you want the changes to take place inplace=True is must"
   ]
  },
  {
   "cell_type": "code",
   "execution_count": null,
   "metadata": {},
   "outputs": [],
   "source": [
    "# altering the data in the rows\n",
    "# we can just pass the values through the list like this, bu the length of list must be equal to the values passed \n",
    "# these aren't enough and will give one an error, it is a mess for greater values \n",
    "# df.loc[2] = ['i am not a professional dev', 'Yes']\n",
    "# we can take out the specific values like this and change \n",
    "df.loc[2, ['Age', 'Country']] = [19, 'United Kingdom']"
   ]
  },
  {
   "cell_type": "code",
   "execution_count": null,
   "metadata": {},
   "outputs": [],
   "source": [
    "# pandas have specific method .at() for changing a specific value, instead of .loc\n",
    "df.at[2, 'Age'] = 19"
   ]
  },
  {
   "cell_type": "markdown",
   "metadata": {},
   "source": [
    "<font size=\"3\">Updating multiple rows and columns </font> \n",
    "<br>\n",
    "e.g if we want to update all the Mainbranch to lowercase we can use str.lower mehtod"
   ]
  },
  {
   "cell_type": "code",
   "execution_count": null,
   "metadata": {},
   "outputs": [],
   "source": [
    "df['MainBranch'] = df['MainBranch'].str.lower()"
   ]
  },
  {
   "cell_type": "markdown",
   "metadata": {},
   "source": [
    "There are 4 specific methods used to make changes and people often get confused these 4 methods are <br>\n",
    "apply, map, applymap, replace"
   ]
  },
  {
   "cell_type": "markdown",
   "metadata": {},
   "source": [
    "<font size=\"3\"> Apply function on a series </font>"
   ]
  },
  {
   "cell_type": "code",
   "execution_count": null,
   "metadata": {},
   "outputs": [],
   "source": [
    "def updateMainBranch(branch):\n",
    "    return branch.upper()"
   ]
  },
  {
   "cell_type": "code",
   "execution_count": null,
   "metadata": {},
   "outputs": [],
   "source": [
    "#  we apply the function without passing the paranthesis inside, mostly lambdas func are used in apply()\n",
    "# df['MainBranch'].head(10).apply(updateMainBranch) \n",
    "df['MainBranch'].head(10).apply(lambda x:x.lower())"
   ]
  },
  {
   "cell_type": "markdown",
   "metadata": {},
   "source": [
    "<font size=\"3\"> Apply function on a dataFrame </font>"
   ]
  },
  {
   "cell_type": "code",
   "execution_count": null,
   "metadata": {},
   "outputs": [],
   "source": [
    "# this return the values or no of rows in each column or series\n",
    "df.apply(len, axis='columns') # we can mention the axix=\"column\" or row arg inside the apply "
   ]
  },
  {
   "cell_type": "code",
   "execution_count": null,
   "metadata": {},
   "outputs": [],
   "source": []
  }
 ],
 "metadata": {
  "kernelspec": {
   "display_name": "Python 3",
   "language": "python",
   "name": "python3"
  },
  "language_info": {
   "codemirror_mode": {
    "name": "ipython",
    "version": 3
   },
   "file_extension": ".py",
   "mimetype": "text/x-python",
   "name": "python",
   "nbconvert_exporter": "python",
   "pygments_lexer": "ipython3",
   "version": "3.8.5"
  }
 },
 "nbformat": 4,
 "nbformat_minor": 4
}
